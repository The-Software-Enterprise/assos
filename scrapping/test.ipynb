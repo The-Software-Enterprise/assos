{
 "cells": [
  {
   "cell_type": "code",
   "execution_count": 1,
   "metadata": {},
   "outputs": [
    {
     "name": "stdout",
     "output_type": "stream",
     "text": [
      "Status code: 200\n",
      "Content type: text/html; charset=UTF-8\n"
     ]
    }
   ],
   "source": [
    "# get all the data from the site https://www.epfl.ch/campus/associations/list/\n",
    "\n",
    "import requests\n",
    "from bs4 import BeautifulSoup\n",
    "import csv\n",
    "import pandas as pd\n",
    "\n",
    "headers = {'User-Agent': 'Mozilla/5.0 (Windows NT 10.0; Win64; x64) AppleWebKit/537.36 (KHTML, like Gecko) Chrome/58.0.3029.110 Safari/537.3'}\n",
    "\n",
    "\n",
    "url = 'https://www.epfl.ch/campus/associations/list/'\n",
    "\n",
    "response = requests.get(url, headers=headers)\n",
    "print(f'Status code: {response.status_code}')\n",
    "print(f'Content type: {response.headers[\"content-type\"]}')\n",
    "#print(f'text: {response.text}')\n",
    "soup = BeautifulSoup(response.text, 'html.parser')\n",
    "\n",
    "# get the table\n",
    "\n",
    "tables = soup.find_all('ul')\n",
    "wanted_table = tables[2]\n",
    "\n",
    "\n",
    "# get the rows\n",
    "items = wanted_table.find_all('li')\n",
    "\n",
    "# get the data\n",
    "#when possible for each we want url and name and fullname\n",
    "#most look like this -> <li><strong><a href=\"http://adec.epfl.ch/\" rel=\"noopener noreferrer\" target=\"_blank\">ADEC</a></strong> (Association of EPFL Students in Chemistry)</li>\n",
    "# some don't have a link -> <li><strong>AGEPoly</strong> (General Association of EPFL Students)</li>\n",
    "#and some are wrapped in a span -> <li><span><strong><a href=\"http://www.aiesec.ch/epfl\" rel=\"noopener noreferrer\" target=\"_blank\">AIESEC</a></strong> (International Association of Students in Economic and Commercial Sciences)</span></li>\n",
    "data = {}\n",
    "for item in items:\n",
    "    # Find the first <a> tag\n",
    "    link = item.find('a')\n",
    "    text = item.text.strip()[:-1]\n",
    "    parts = text.split('(')\n",
    "    acronym = parts[0].strip()\n",
    "    try:\n",
    "        fullname = parts[1].strip()\n",
    "    except IndexError:\n",
    "        fullname = acronym\n",
    "    # Extract acronym, URL, and full name if the <a> tag exists\n",
    "    if link:\n",
    "        url = link.get('href', 'N/A')\n",
    "    else:\n",
    "        # If <a> tag does not exist, extract text and assume it contains both acronym and full name\n",
    "        url = 'N/A'\n",
    "\n",
    "    data[acronym] = {'url': url, 'fullname': fullname}\n",
    "    # Extract full name\n",
    "\n",
    "# write to csv\n",
    "with open('epfl_associations.csv', 'w') as f:\n",
    "    writer = csv.writer(f)\n",
    "    writer.writerow(['acronym', 'url', 'fullname'])\n",
    "    for acronym, info in data.items():\n",
    "        writer.writerow([acronym, info['url'], info['fullname']])\n",
    "\n",
    "\n",
    "\n",
    "\n",
    "\n"
   ]
  },
  {
   "cell_type": "code",
   "execution_count": 2,
   "metadata": {},
   "outputs": [],
   "source": [
    "#transform to panda into a a json\n",
    "df = pd.read_csv('epfl_associations.csv')\n",
    "df.to_json('epfl_associations.json', orient='records')\n",
    "\n"
   ]
  },
  {
   "cell_type": "code",
   "execution_count": 1,
   "metadata": {},
   "outputs": [],
   "source": [
    "# To get started, simply uncomment the below code or create your own.\n",
    "# Deploy with `firebase deploy`\n",
    "\n",
    "from firebase_functions import https_fn\n",
    "from firebase_admin import initialize_app, db\n",
    "\n",
    "\n",
    "from firebase_functions import https_fn, options\n",
    "import epflpeople\n",
    "from firebase_functions.firestore_fn import (\n",
    "    on_document_written,\n",
    "    Event,\n",
    "    Change,\n",
    "    DocumentSnapshot,\n",
    ")\n",
    "from flask import jsonify\n",
    "from google.cloud import firestore\n",
    "firestore_client: google.cloud.firestore.Client = firestore.Client()\n",
    "initialize_app()\n",
    "\n",
    "@https_fn.on_call()\n",
    "def oncallFind(req: https_fn.Request) -> https_fn.Response:\n",
    "    # the request body is a JSON object with a single key \"email\"\n",
    "    email = req.data[\"email\"]\n",
    "    userID = req.auth.uid\n",
    "    profile = epflpeople.find(email)\n",
    "\n",
    "    # profile is a format of a list of dictionnary we want first elem and change the dict into a json\n",
    "    if profile:\n",
    "        # {'name': 'Philippe', 'firstname': 'Marin Marc Alain'\n",
    "        # , 'email': 'marin.philippe@epfl.ch'\n",
    "        # , 'sciper': '326343'\n",
    "        # , 'rank': 0\n",
    "        # , 'accreds':\n",
    "        #       [{'acronym': 'IN-MA2',\n",
    "        #       'path': 'EPFL/ETU/IN-S/IN-MA2',\n",
    "        #       'name': \"Section d'informatique - Master semestre 2\",\n",
    "        #       'position': 'Etudiant',\n",
    "        #       'phoneList': [],\n",
    "        #       'officeList': [],\n",
    "        #       'rank': 0, 'code': 50038}],\n",
    "        # 'profile': 'marin.philippe'}\n",
    "        associations = list()\n",
    "        print(profile[0])\n",
    "\n",
    "        for i in range(len(profile[0][\"accreds\"]) - 1):\n",
    "            temp = {\n",
    "                \"acronym\": profile[0][\"accreds\"][i + 1][\"acronym\"],\n",
    "                \"position\": profile[0][\"accreds\"][i + 1][\"position\"],\n",
    "                \"rank\": profile[0][\"accreds\"][i + 1][\"rank\"],\n",
    "            }\n",
    "            associations.append(temp)\n",
    "        user = {\n",
    "            \"email\": profile[0][\"email\"],\n",
    "            \"name\": profile[0][\"name\"],\n",
    "            \"firstname\": profile[0][\"firstname\"],\n",
    "            \"sciper\": profile[0][\"sciper\"],\n",
    "            \"semester\": profile[0][\"accreds\"][0][\"acronym\"],\n",
    "            \"associations\" : associations\n",
    "        }\n",
    "        \n",
    "        emailHash = hash(email)\n",
    "\n",
    "        firestore_client.document(f\"users/{userID}\").set(user)\n",
    "         # transform profile insto a json format\n",
    "         \n",
    "         \n",
    "         \n",
    "        return https_fn.Response(jsonify(profile[0]))\n",
    "    else:\n",
    "        return https_fn.Response(\"No profile found for email: \" + email, status=404)\n"
   ]
  },
  {
   "cell_type": "code",
   "execution_count": 2,
   "metadata": {},
   "outputs": [
    {
     "name": "stdout",
     "output_type": "stream",
     "text": [
      "[{'name': 'George', 'firstname': 'Amaury Olivier Marie-Josèphe', 'email': 'amaury.george@epfl.ch', 'sciper': '324402', 'rank': 0, 'accreds': [{'acronym': 'SC-MA2', 'path': 'EPFL/ETU/SC-S/SC-MA2', 'name': 'Section de systèmes de communication - Master semestre 2', 'position': 'Etudiant', 'phoneList': [], 'officeList': [], 'rank': 0, 'code': 50110}], 'profile': 'amaury.george'}]\n"
     ]
    }
   ],
   "source": [
    "import epflpeople\n",
    "\n",
    "\n",
    "profile = epflpeople.find(\"amaury.george@epfl.ch\")\n",
    "\n",
    "print(profile)"
   ]
  },
  {
   "cell_type": "code",
   "execution_count": 34,
   "metadata": {},
   "outputs": [],
   "source": [
    "\n",
    "\n",
    "\n",
    "    "
   ]
  },
  {
   "cell_type": "code",
   "execution_count": 38,
   "metadata": {},
   "outputs": [
    {
     "name": "stdout",
     "output_type": "stream",
     "text": [
      "EPFL ROCKET TEAM\n"
     ]
    }
   ],
   "source": [
    "acrList = find_original_acronym(\"ROCKETTEAM\")\n",
    "\n",
    "string = \"\"\n",
    "\n",
    "for i in acrList:\n",
    "    string += i + \" \"\n",
    "\n",
    "#remove the last space\n",
    "string = string[:-1]\n",
    "print (string)"
   ]
  },
  {
   "cell_type": "code",
   "execution_count": 39,
   "metadata": {},
   "outputs": [
    {
     "name": "stdout",
     "output_type": "stream",
     "text": [
      "EPFL ROCKET TEAM\n"
     ]
    }
   ],
   "source": [
    "acron = \" \".join(acrList)\n",
    "print(acron)\n"
   ]
  },
  {
   "cell_type": "code",
   "execution_count": 53,
   "metadata": {},
   "outputs": [],
   "source": [
    "from firebase_functions import https_fn\n",
    "from firebase_admin import initialize_app, db\n",
    "\n",
    "\n",
    "from firebase_functions import https_fn, options\n",
    "import epflpeople\n",
    "from firebase_functions.firestore_fn import (\n",
    "    on_document_written,\n",
    "    Event,\n",
    "    Change,\n",
    "    DocumentSnapshot,\n",
    ")\n",
    "from flask import jsonify\n",
    "from google.cloud import firestore\n",
    "import os\n",
    "import firebase_admin\n",
    "from firebase_admin import credentials\n",
    "\n",
    "os.environ[\"GOOGLE_APPLICATION_CREDENTIALS\"] = \"./the-software-enterprise-c5ea2-firebase-adminsdk-yconf-ba9fbdaa33.json\"\n",
    "\n",
    "firestore_client = firestore.Client()\n",
    "#get print all associations\n",
    "\n",
    "all_associations = firestore_client.collection(\"associations\").stream()\n",
    "\n",
    "for association in all_associations:\n",
    "    #for all associations add a field that is there acronym in lowercase\n",
    "    association_dict = association.to_dict()\n",
    "    firestore_client.collection(\"associations\").document(association.id).update({\"acronym_lower\":association_dict[\"acronym\"].lower()})\n",
    "    \n",
    "    \n",
    "    \n",
    "  \n",
    "    \n",
    "\n"
   ]
  },
  {
   "cell_type": "code",
   "execution_count": null,
   "metadata": {},
   "outputs": [],
   "source": []
  }
 ],
 "metadata": {
  "kernelspec": {
   "display_name": "Python 3",
   "language": "python",
   "name": "python3"
  },
  "language_info": {
   "codemirror_mode": {
    "name": "ipython",
    "version": 3
   },
   "file_extension": ".py",
   "mimetype": "text/x-python",
   "name": "python",
   "nbconvert_exporter": "python",
   "pygments_lexer": "ipython3",
   "version": "3.10.12"
  }
 },
 "nbformat": 4,
 "nbformat_minor": 2
}
