{
 "cells": [
  {
   "cell_type": "code",
   "execution_count": 61,
   "metadata": {},
   "outputs": [
    {
     "name": "stdout",
     "output_type": "stream",
     "text": [
      "Status code: 200\n",
      "Content type: text/html; charset=UTF-8\n"
     ]
    }
   ],
   "source": [
    "# get all the data from the site https://www.epfl.ch/campus/associations/list/\n",
    "\n",
    "import requests\n",
    "from bs4 import BeautifulSoup\n",
    "import csv\n",
    "import pandas as pd\n",
    "\n",
    "headers = {'User-Agent': 'Mozilla/5.0 (Windows NT 10.0; Win64; x64) AppleWebKit/537.36 (KHTML, like Gecko) Chrome/58.0.3029.110 Safari/537.3'}\n",
    "\n",
    "\n",
    "url = 'https://www.epfl.ch/campus/associations/list/'\n",
    "\n",
    "response = requests.get(url, headers=headers)\n",
    "print(f'Status code: {response.status_code}')\n",
    "print(f'Content type: {response.headers[\"content-type\"]}')\n",
    "#print(f'text: {response.text}')\n",
    "soup = BeautifulSoup(response.text, 'html.parser')\n",
    "\n",
    "# get the table\n",
    "\n",
    "tables = soup.find_all('ul')\n",
    "wanted_table = tables[2]\n",
    "\n",
    "\n",
    "# get the rows\n",
    "items = wanted_table.find_all('li')\n",
    "\n",
    "# get the data\n",
    "#when possible for each we want url and name and fullname\n",
    "#most look like this -> <li><strong><a href=\"http://adec.epfl.ch/\" rel=\"noopener noreferrer\" target=\"_blank\">ADEC</a></strong> (Association of EPFL Students in Chemistry)</li>\n",
    "# some don't have a link -> <li><strong>AGEPoly</strong> (General Association of EPFL Students)</li>\n",
    "#and some are wrapped in a span -> <li><span><strong><a href=\"http://www.aiesec.ch/epfl\" rel=\"noopener noreferrer\" target=\"_blank\">AIESEC</a></strong> (International Association of Students in Economic and Commercial Sciences)</span></li>\n",
    "data = {}\n",
    "for item in items:\n",
    "    # Find the first <a> tag\n",
    "    link = item.find('a')\n",
    "    text = item.text.strip()[:-1]\n",
    "    parts = text.split('(')\n",
    "    acronym = parts[0].strip()\n",
    "    try:\n",
    "        fullname = parts[1].strip()\n",
    "    except IndexError:\n",
    "        fullname = acronym\n",
    "    # Extract acronym, URL, and full name if the <a> tag exists\n",
    "    if link:\n",
    "        url = link.get('href', 'N/A')\n",
    "    else:\n",
    "        # If <a> tag does not exist, extract text and assume it contains both acronym and full name\n",
    "        url = 'N/A'\n",
    "\n",
    "    data[acronym] = {'url': url, 'fullname': fullname}\n",
    "    # Extract full name\n",
    "\n",
    "# write to csv\n",
    "with open('epfl_associations.csv', 'w') as f:\n",
    "    writer = csv.writer(f)\n",
    "    writer.writerow(['acronym', 'url', 'fullname'])\n",
    "    for acronym, info in data.items():\n",
    "        writer.writerow([acronym, info['url'], info['fullname']])\n",
    "\n",
    "\n",
    "\n",
    "\n",
    "\n"
   ]
  }
 ],
 "metadata": {
  "kernelspec": {
   "display_name": "Python 3",
   "language": "python",
   "name": "python3"
  },
  "language_info": {
   "codemirror_mode": {
    "name": "ipython",
    "version": 3
   },
   "file_extension": ".py",
   "mimetype": "text/x-python",
   "name": "python",
   "nbconvert_exporter": "python",
   "pygments_lexer": "ipython3",
   "version": "3.10.12"
  }
 },
 "nbformat": 4,
 "nbformat_minor": 2
}
